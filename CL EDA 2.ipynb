{
 "cells": [
  {
   "cell_type": "markdown",
   "metadata": {},
   "source": [
    "\n",
    "#INTRODUCTION\n",
    "\n",
    "\n"
   ]
  },
  {
   "cell_type": "markdown",
   "metadata": {},
   "source": [
    "The dataset comprises 2,512 records of bank transactions, offering a comprehensive view of transaction details, customer profiles, and account activities. Each record includes a unique TransactionID and AccountID, alongside the TransactionAmount, TransactionDate, and TransactionType (credit or debit). It also captures contextual information such as Location, DeviceID, and IP Address, reflecting the environment in which transactions occurred. Additional fields like MerchantID and Channel provide insights into transaction origin, while customer demographics, such as CustomerAge and CustomerOccupation, enrich the data. Other notable columns include TransactionDuration, LoginAttempts, AccountBalance, and PreviousTransactionDate, which collectively offer a timeline of financial activities. This dataset is ideal for analyzing customer behavior, identifying patterns, and detecting anomalies or potential fraudulent activities"
   ]
  },
  {
   "cell_type": "markdown",
   "metadata": {},
   "source": [
    "IMPORT ALL LIBRARIES "
   ]
  },
  {
   "cell_type": "code",
   "execution_count": 2,
   "metadata": {},
   "outputs": [],
   "source": [
    "import pandas as pd \n",
    "import numpy as np\n",
    "import matplotlib.pyplot as plt\n",
    "import seaborn as sns"
   ]
  },
  {
   "cell_type": "markdown",
   "metadata": {},
   "source": [
    "IMPORT THE DATAFRAME"
   ]
  },
  {
   "cell_type": "code",
   "execution_count": 3,
   "metadata": {},
   "outputs": [
    {
     "name": "stdout",
     "output_type": "stream",
     "text": [
      "     TransactionID AccountID  TransactionAmount      TransactionDate  \\\n",
      "0         TX000001   AC00128              14.09  2023-04-11 16:29:14   \n",
      "1         TX000002   AC00455             376.24  2023-06-27 16:44:19   \n",
      "2         TX000003   AC00019             126.29  2023-07-10 18:16:08   \n",
      "3         TX000004   AC00070             184.50  2023-05-05 16:32:11   \n",
      "4         TX000005   AC00411              13.45  2023-10-16 17:51:24   \n",
      "...            ...       ...                ...                  ...   \n",
      "2507      TX002508   AC00297             856.21  2023-04-26 17:09:36   \n",
      "2508      TX002509   AC00322             251.54  2023-03-22 17:36:48   \n",
      "2509      TX002510   AC00095              28.63  2023-08-21 17:08:50   \n",
      "2510      TX002511   AC00118             185.97  2023-02-24 16:24:46   \n",
      "2511      TX002512   AC00009             243.08  2023-02-14 16:21:23   \n",
      "\n",
      "     TransactionType          Location DeviceID      IP Address MerchantID  \\\n",
      "0              Debit         San Diego  D000380  162.198.218.92       M015   \n",
      "1              Debit           Houston  D000051     13.149.61.4       M052   \n",
      "2              Debit              Mesa  D000235  215.97.143.157       M009   \n",
      "3              Debit           Raleigh  D000187  200.13.225.150       M002   \n",
      "4             Credit           Atlanta  D000308    65.164.3.100       M091   \n",
      "...              ...               ...      ...             ...        ...   \n",
      "2507          Credit  Colorado Springs  D000625    21.157.41.17       M072   \n",
      "2508           Debit            Tucson  D000410  49.174.157.140       M029   \n",
      "2509           Debit         San Diego  D000095     58.1.27.124       M087   \n",
      "2510           Debit            Denver  D000634   21.190.11.223       M041   \n",
      "2511          Credit      Jacksonville  D000215   59.127.135.25       M041   \n",
      "\n",
      "     Channel  CustomerAge CustomerOccupation  TransactionDuration  \\\n",
      "0        ATM           70             Doctor                   81   \n",
      "1        ATM           68             Doctor                  141   \n",
      "2     Online           19            Student                   56   \n",
      "3     Online           26            Student                   25   \n",
      "4     Online           26            Student                  198   \n",
      "...      ...          ...                ...                  ...   \n",
      "2507  Branch           33             Doctor                  109   \n",
      "2508  Branch           48             Doctor                  177   \n",
      "2509  Branch           56            Retired                  146   \n",
      "2510  Online           23            Student                   19   \n",
      "2511  Online           24            Student                   93   \n",
      "\n",
      "      LoginAttempts  AccountBalance PreviousTransactionDate  \n",
      "0                 1         5112.21     2024-11-04 08:08:08  \n",
      "1                 1        13758.91     2024-11-04 08:09:35  \n",
      "2                 1         1122.35     2024-11-04 08:07:04  \n",
      "3                 1         8569.06     2024-11-04 08:09:06  \n",
      "4                 1         7429.40     2024-11-04 08:06:39  \n",
      "...             ...             ...                     ...  \n",
      "2507              1        12690.79     2024-11-04 08:11:29  \n",
      "2508              1          254.75     2024-11-04 08:11:42  \n",
      "2509              1         3382.91     2024-11-04 08:08:39  \n",
      "2510              1         1776.91     2024-11-04 08:12:22  \n",
      "2511              1          131.25     2024-11-04 08:07:49  \n",
      "\n",
      "[2512 rows x 16 columns]\n"
     ]
    }
   ],
   "source": [
    "import pandas as pd\n",
    "df=pd.read_csv(\"/Users/almas/Documents/Data_analystics/ABIJITH CL/Abijith CL/bank_transactions_data_2.csv\")\n",
    "print(df)"
   ]
  },
  {
   "cell_type": "markdown",
   "metadata": {},
   "source": [
    "ANALYSING BY CHECKING FIRST 10 ROWS "
   ]
  },
  {
   "cell_type": "code",
   "execution_count": 4,
   "metadata": {},
   "outputs": [
    {
     "name": "stdout",
     "output_type": "stream",
     "text": [
      "  TransactionID AccountID  TransactionAmount      TransactionDate  \\\n",
      "0      TX000001   AC00128              14.09  2023-04-11 16:29:14   \n",
      "1      TX000002   AC00455             376.24  2023-06-27 16:44:19   \n",
      "2      TX000003   AC00019             126.29  2023-07-10 18:16:08   \n",
      "3      TX000004   AC00070             184.50  2023-05-05 16:32:11   \n",
      "4      TX000005   AC00411              13.45  2023-10-16 17:51:24   \n",
      "5      TX000006   AC00393              92.15  2023-04-03 17:15:01   \n",
      "6      TX000007   AC00199               7.08  2023-02-15 16:36:48   \n",
      "7      TX000008   AC00069             171.42  2023-05-08 17:47:59   \n",
      "8      TX000009   AC00135             106.23  2023-03-21 16:59:46   \n",
      "9      TX000010   AC00385             815.96  2023-03-31 16:06:57   \n",
      "\n",
      "  TransactionType       Location DeviceID       IP Address MerchantID Channel  \\\n",
      "0           Debit      San Diego  D000380   162.198.218.92       M015     ATM   \n",
      "1           Debit        Houston  D000051      13.149.61.4       M052     ATM   \n",
      "2           Debit           Mesa  D000235   215.97.143.157       M009  Online   \n",
      "3           Debit        Raleigh  D000187   200.13.225.150       M002  Online   \n",
      "4          Credit        Atlanta  D000308     65.164.3.100       M091  Online   \n",
      "5           Debit  Oklahoma City  D000579   117.67.192.211       M054     ATM   \n",
      "6          Credit        Seattle  D000241  140.212.253.222       M019     ATM   \n",
      "7          Credit   Indianapolis  D000500    92.214.76.157       M020  Branch   \n",
      "8          Credit        Detroit  D000690    24.148.92.177       M035  Branch   \n",
      "9           Debit      Nashville  D000199     32.169.88.41       M007     ATM   \n",
      "\n",
      "   CustomerAge CustomerOccupation  TransactionDuration  LoginAttempts  \\\n",
      "0           70             Doctor                   81              1   \n",
      "1           68             Doctor                  141              1   \n",
      "2           19            Student                   56              1   \n",
      "3           26            Student                   25              1   \n",
      "4           26            Student                  198              1   \n",
      "5           18            Student                  172              1   \n",
      "6           37             Doctor                  139              1   \n",
      "7           67            Retired                  291              1   \n",
      "8           51           Engineer                   86              1   \n",
      "9           55             Doctor                  120              1   \n",
      "\n",
      "   AccountBalance PreviousTransactionDate  \n",
      "0         5112.21     2024-11-04 08:08:08  \n",
      "1        13758.91     2024-11-04 08:09:35  \n",
      "2         1122.35     2024-11-04 08:07:04  \n",
      "3         8569.06     2024-11-04 08:09:06  \n",
      "4         7429.40     2024-11-04 08:06:39  \n",
      "5          781.68     2024-11-04 08:06:36  \n",
      "6        13316.71     2024-11-04 08:10:09  \n",
      "7         2796.24     2024-11-04 08:10:55  \n",
      "8         9095.14     2024-11-04 08:11:14  \n",
      "9         1021.88     2024-11-04 08:06:32  \n"
     ]
    }
   ],
   "source": [
    "print(df.head(10))"
   ]
  },
  {
   "cell_type": "markdown",
   "metadata": {},
   "source": [
    "ANALYSING BY CHECKING LAST 10 ROWS"
   ]
  },
  {
   "cell_type": "code",
   "execution_count": 5,
   "metadata": {},
   "outputs": [
    {
     "name": "stdout",
     "output_type": "stream",
     "text": [
      "     TransactionID AccountID  TransactionAmount      TransactionDate  \\\n",
      "2502      TX002503   AC00069             603.54  2023-04-21 16:22:38   \n",
      "2503      TX002504   AC00427             270.25  2023-11-06 16:56:41   \n",
      "2504      TX002505   AC00047             123.38  2024-01-01 17:21:56   \n",
      "2505      TX002506   AC00377             577.12  2023-01-27 17:38:07   \n",
      "2506      TX002507   AC00258              92.24  2023-04-13 17:45:33   \n",
      "2507      TX002508   AC00297             856.21  2023-04-26 17:09:36   \n",
      "2508      TX002509   AC00322             251.54  2023-03-22 17:36:48   \n",
      "2509      TX002510   AC00095              28.63  2023-08-21 17:08:50   \n",
      "2510      TX002511   AC00118             185.97  2023-02-24 16:24:46   \n",
      "2511      TX002512   AC00009             243.08  2023-02-14 16:21:23   \n",
      "\n",
      "     TransactionType          Location DeviceID      IP Address MerchantID  \\\n",
      "2502           Debit       Albuquerque  D000321  112.86.148.212       M029   \n",
      "2503           Debit            Tucson  D000224  147.114.91.132       M065   \n",
      "2504           Debit        Sacramento  D000219  163.129.70.210       M049   \n",
      "2505           Debit    Virginia Beach  D000110   120.16.186.17       M075   \n",
      "2506           Debit      Philadelphia  D000531  189.183.50.147       M076   \n",
      "2507          Credit  Colorado Springs  D000625    21.157.41.17       M072   \n",
      "2508           Debit            Tucson  D000410  49.174.157.140       M029   \n",
      "2509           Debit         San Diego  D000095     58.1.27.124       M087   \n",
      "2510           Debit            Denver  D000634   21.190.11.223       M041   \n",
      "2511          Credit      Jacksonville  D000215   59.127.135.25       M041   \n",
      "\n",
      "     Channel  CustomerAge CustomerOccupation  TransactionDuration  \\\n",
      "2502  Online           44             Doctor                   26   \n",
      "2503     ATM           31           Engineer                   42   \n",
      "2504  Online           59             Doctor                   40   \n",
      "2505     ATM           39           Engineer                   69   \n",
      "2506  Branch           60           Engineer                   93   \n",
      "2507  Branch           33             Doctor                  109   \n",
      "2508  Branch           48             Doctor                  177   \n",
      "2509  Branch           56            Retired                  146   \n",
      "2510  Online           23            Student                   19   \n",
      "2511  Online           24            Student                   93   \n",
      "\n",
      "      LoginAttempts  AccountBalance PreviousTransactionDate  \n",
      "2502              1        10517.47     2024-11-04 08:08:08  \n",
      "2503              1         5414.97     2024-11-04 08:10:48  \n",
      "2504              1        13542.41     2024-11-04 08:10:53  \n",
      "2505              1         5265.88     2024-11-04 08:10:50  \n",
      "2506              1         6937.48     2024-11-04 08:09:06  \n",
      "2507              1        12690.79     2024-11-04 08:11:29  \n",
      "2508              1          254.75     2024-11-04 08:11:42  \n",
      "2509              1         3382.91     2024-11-04 08:08:39  \n",
      "2510              1         1776.91     2024-11-04 08:12:22  \n",
      "2511              1          131.25     2024-11-04 08:07:49  \n"
     ]
    }
   ],
   "source": [
    "print(df.tail(10))"
   ]
  },
  {
   "cell_type": "markdown",
   "metadata": {},
   "source": [
    "CHECKING BASIC INFORMATION ABOUT THE DATA"
   ]
  },
  {
   "cell_type": "code",
   "execution_count": 6,
   "metadata": {},
   "outputs": [
    {
     "name": "stdout",
     "output_type": "stream",
     "text": [
      "<class 'pandas.core.frame.DataFrame'>\n",
      "RangeIndex: 2512 entries, 0 to 2511\n",
      "Data columns (total 16 columns):\n",
      " #   Column                   Non-Null Count  Dtype  \n",
      "---  ------                   --------------  -----  \n",
      " 0   TransactionID            2512 non-null   object \n",
      " 1   AccountID                2512 non-null   object \n",
      " 2   TransactionAmount        2512 non-null   float64\n",
      " 3   TransactionDate          2512 non-null   object \n",
      " 4   TransactionType          2512 non-null   object \n",
      " 5   Location                 2512 non-null   object \n",
      " 6   DeviceID                 2512 non-null   object \n",
      " 7   IP Address               2512 non-null   object \n",
      " 8   MerchantID               2512 non-null   object \n",
      " 9   Channel                  2512 non-null   object \n",
      " 10  CustomerAge              2512 non-null   int64  \n",
      " 11  CustomerOccupation       2512 non-null   object \n",
      " 12  TransactionDuration      2512 non-null   int64  \n",
      " 13  LoginAttempts            2512 non-null   int64  \n",
      " 14  AccountBalance           2512 non-null   float64\n",
      " 15  PreviousTransactionDate  2512 non-null   object \n",
      "dtypes: float64(2), int64(3), object(11)\n",
      "memory usage: 314.1+ KB\n",
      "None\n"
     ]
    }
   ],
   "source": [
    "print(df.info())"
   ]
  },
  {
   "cell_type": "markdown",
   "metadata": {},
   "source": [
    "\n",
    "CHECKING THE NULL VALUES AND EMPTY SETS COLUMNWISE"
   ]
  },
  {
   "cell_type": "code",
   "execution_count": 7,
   "metadata": {},
   "outputs": [
    {
     "name": "stdout",
     "output_type": "stream",
     "text": [
      "TransactionID              0\n",
      "AccountID                  0\n",
      "TransactionAmount          0\n",
      "TransactionDate            0\n",
      "TransactionType            0\n",
      "Location                   0\n",
      "DeviceID                   0\n",
      "IP Address                 0\n",
      "MerchantID                 0\n",
      "Channel                    0\n",
      "CustomerAge                0\n",
      "CustomerOccupation         0\n",
      "TransactionDuration        0\n",
      "LoginAttempts              0\n",
      "AccountBalance             0\n",
      "PreviousTransactionDate    0\n",
      "dtype: int64\n"
     ]
    }
   ],
   "source": [
    "print(df.isna().sum())"
   ]
  },
  {
   "cell_type": "markdown",
   "metadata": {},
   "source": [
    "CHECKING THE NULL VALUES AND EMPTY SETS IN TOTAL"
   ]
  },
  {
   "cell_type": "code",
   "execution_count": 8,
   "metadata": {},
   "outputs": [
    {
     "name": "stdout",
     "output_type": "stream",
     "text": [
      "0\n"
     ]
    }
   ],
   "source": [
    "print(df.isna().sum().sum())"
   ]
  },
  {
   "cell_type": "markdown",
   "metadata": {
    "notebookRunGroups": {
     "groupValue": "1"
    }
   },
   "source": [
    "REMOVE ROWS "
   ]
  },
  {
   "cell_type": "code",
   "execution_count": 9,
   "metadata": {},
   "outputs": [
    {
     "name": "stdout",
     "output_type": "stream",
     "text": [
      "     TransactionID AccountID  TransactionAmount      TransactionDate  \\\n",
      "0         TX000001   AC00128              14.09  2023-04-11 16:29:14   \n",
      "1         TX000002   AC00455             376.24  2023-06-27 16:44:19   \n",
      "2         TX000003   AC00019             126.29  2023-07-10 18:16:08   \n",
      "3         TX000004   AC00070             184.50  2023-05-05 16:32:11   \n",
      "4         TX000005   AC00411              13.45  2023-10-16 17:51:24   \n",
      "...            ...       ...                ...                  ...   \n",
      "2507      TX002508   AC00297             856.21  2023-04-26 17:09:36   \n",
      "2508      TX002509   AC00322             251.54  2023-03-22 17:36:48   \n",
      "2509      TX002510   AC00095              28.63  2023-08-21 17:08:50   \n",
      "2510      TX002511   AC00118             185.97  2023-02-24 16:24:46   \n",
      "2511      TX002512   AC00009             243.08  2023-02-14 16:21:23   \n",
      "\n",
      "     TransactionType          Location DeviceID      IP Address MerchantID  \\\n",
      "0              Debit         San Diego  D000380  162.198.218.92       M015   \n",
      "1              Debit           Houston  D000051     13.149.61.4       M052   \n",
      "2              Debit              Mesa  D000235  215.97.143.157       M009   \n",
      "3              Debit           Raleigh  D000187  200.13.225.150       M002   \n",
      "4             Credit           Atlanta  D000308    65.164.3.100       M091   \n",
      "...              ...               ...      ...             ...        ...   \n",
      "2507          Credit  Colorado Springs  D000625    21.157.41.17       M072   \n",
      "2508           Debit            Tucson  D000410  49.174.157.140       M029   \n",
      "2509           Debit         San Diego  D000095     58.1.27.124       M087   \n",
      "2510           Debit            Denver  D000634   21.190.11.223       M041   \n",
      "2511          Credit      Jacksonville  D000215   59.127.135.25       M041   \n",
      "\n",
      "     Channel  CustomerAge CustomerOccupation  TransactionDuration  \\\n",
      "0        ATM           70             Doctor                   81   \n",
      "1        ATM           68             Doctor                  141   \n",
      "2     Online           19            Student                   56   \n",
      "3     Online           26            Student                   25   \n",
      "4     Online           26            Student                  198   \n",
      "...      ...          ...                ...                  ...   \n",
      "2507  Branch           33             Doctor                  109   \n",
      "2508  Branch           48             Doctor                  177   \n",
      "2509  Branch           56            Retired                  146   \n",
      "2510  Online           23            Student                   19   \n",
      "2511  Online           24            Student                   93   \n",
      "\n",
      "      LoginAttempts  AccountBalance PreviousTransactionDate  \n",
      "0                 1         5112.21     2024-11-04 08:08:08  \n",
      "1                 1        13758.91     2024-11-04 08:09:35  \n",
      "2                 1         1122.35     2024-11-04 08:07:04  \n",
      "3                 1         8569.06     2024-11-04 08:09:06  \n",
      "4                 1         7429.40     2024-11-04 08:06:39  \n",
      "...             ...             ...                     ...  \n",
      "2507              1        12690.79     2024-11-04 08:11:29  \n",
      "2508              1          254.75     2024-11-04 08:11:42  \n",
      "2509              1         3382.91     2024-11-04 08:08:39  \n",
      "2510              1         1776.91     2024-11-04 08:12:22  \n",
      "2511              1          131.25     2024-11-04 08:07:49  \n",
      "\n",
      "[2512 rows x 16 columns]\n"
     ]
    }
   ],
   "source": [
    "print(df.dropna())"
   ]
  },
  {
   "cell_type": "markdown",
   "metadata": {},
   "source": [
    "REMOVE ALL NULL VALUES AND EMPTY SETS"
   ]
  },
  {
   "cell_type": "code",
   "execution_count": 10,
   "metadata": {},
   "outputs": [],
   "source": [
    "df.dropna(inplace=True)"
   ]
  },
  {
   "cell_type": "markdown",
   "metadata": {},
   "source": [
    "REPLACE THE EMPTY SETS WITH A VALUE"
   ]
  },
  {
   "cell_type": "code",
   "execution_count": 11,
   "metadata": {},
   "outputs": [],
   "source": [
    "# df.fillna(99,inplace=True)"
   ]
  },
  {
   "cell_type": "markdown",
   "metadata": {},
   "source": [
    "REPLACE THE EMPTY VALUE FOR ONE COLUMN"
   ]
  },
  {
   "cell_type": "code",
   "execution_count": 12,
   "metadata": {},
   "outputs": [],
   "source": [
    "# df[\"column_name\"].fillna(99,inplace=True)"
   ]
  },
  {
   "cell_type": "markdown",
   "metadata": {},
   "source": [
    "REPLACE THE EMPTY VALUE WITH MEAN"
   ]
  },
  {
   "cell_type": "code",
   "execution_count": 13,
   "metadata": {},
   "outputs": [],
   "source": [
    "# x=df[\"column_name\"].mean()\n",
    "# df[\"column_name\"].fillna(x,inplace=True)"
   ]
  },
  {
   "cell_type": "markdown",
   "metadata": {},
   "source": [
    "REPLACE THE EMPTY VALUE WITH MEDIAN"
   ]
  },
  {
   "cell_type": "code",
   "execution_count": 14,
   "metadata": {},
   "outputs": [],
   "source": [
    "# x=df[\"column_name\"].median()\n",
    "# df[\"column_name\"].fillna(x,inplace=True)"
   ]
  },
  {
   "cell_type": "markdown",
   "metadata": {},
   "source": [
    "REPLACE THE EMPTY VALUE WITH MODE"
   ]
  },
  {
   "cell_type": "code",
   "execution_count": 15,
   "metadata": {},
   "outputs": [],
   "source": [
    "# x=df[\"column_name\"].mode()\n",
    "# df[\"column_name\"].fillna(x,inplace=True)"
   ]
  },
  {
   "cell_type": "markdown",
   "metadata": {},
   "source": [
    "CHECKING THE DATE FORMAT"
   ]
  },
  {
   "cell_type": "code",
   "execution_count": 16,
   "metadata": {},
   "outputs": [
    {
     "ename": "TypeError",
     "evalue": "to_datetime() missing 1 required positional argument: 'arg'",
     "output_type": "error",
     "traceback": [
      "\u001b[0;31m---------------------------------------------------------------------------\u001b[0m",
      "\u001b[0;31mTypeError\u001b[0m                                 Traceback (most recent call last)",
      "Cell \u001b[0;32mIn[16], line 1\u001b[0m\n\u001b[0;32m----> 1\u001b[0m \u001b[43mpd\u001b[49m\u001b[38;5;241;43m.\u001b[39;49m\u001b[43mto_datetime\u001b[49m\u001b[43m(\u001b[49m\u001b[43m)\u001b[49m\n",
      "\u001b[0;31mTypeError\u001b[0m: to_datetime() missing 1 required positional argument: 'arg'"
     ]
    }
   ],
   "source": [
    "pd.to_datetime()"
   ]
  },
  {
   "cell_type": "markdown",
   "metadata": {},
   "source": [
    "CONVERTING TO ORIGINAL DATE FORMAT"
   ]
  },
  {
   "cell_type": "code",
   "execution_count": null,
   "metadata": {},
   "outputs": [],
   "source": [
    "df[\"TransactionDate\"]=pd.to_datetime(df[\"TransactionDate\"])"
   ]
  },
  {
   "cell_type": "markdown",
   "metadata": {},
   "source": [
    "REMOVING THE NULL VALUES IN DATE COLUMN"
   ]
  },
  {
   "cell_type": "code",
   "execution_count": null,
   "metadata": {},
   "outputs": [],
   "source": [
    "df[\"TransactionDate\"]=pd.to_datetime(df[\"TransactionDate\"])\n",
    "df.dropna(subset=[\"TransactionDate\"],inplace=True)"
   ]
  },
  {
   "cell_type": "markdown",
   "metadata": {},
   "source": [
    "CHECKING DUPLICATES"
   ]
  },
  {
   "cell_type": "code",
   "execution_count": null,
   "metadata": {},
   "outputs": [
    {
     "name": "stdout",
     "output_type": "stream",
     "text": [
      "<bound method DataFrame.duplicated of      TransactionID AccountID  TransactionAmount      TransactionDate  \\\n",
      "0         TX000001   AC00128              14.09  2023-04-11 16:29:14   \n",
      "1         TX000002   AC00455             376.24  2023-06-27 16:44:19   \n",
      "2         TX000003   AC00019             126.29  2023-07-10 18:16:08   \n",
      "3         TX000004   AC00070             184.50  2023-05-05 16:32:11   \n",
      "4         TX000005   AC00411              13.45  2023-10-16 17:51:24   \n",
      "...            ...       ...                ...                  ...   \n",
      "2507      TX002508   AC00297             856.21  2023-04-26 17:09:36   \n",
      "2508      TX002509   AC00322             251.54  2023-03-22 17:36:48   \n",
      "2509      TX002510   AC00095              28.63  2023-08-21 17:08:50   \n",
      "2510      TX002511   AC00118             185.97  2023-02-24 16:24:46   \n",
      "2511      TX002512   AC00009             243.08  2023-02-14 16:21:23   \n",
      "\n",
      "     TransactionType          Location DeviceID      IP Address MerchantID  \\\n",
      "0              Debit         San Diego  D000380  162.198.218.92       M015   \n",
      "1              Debit           Houston  D000051     13.149.61.4       M052   \n",
      "2              Debit              Mesa  D000235  215.97.143.157       M009   \n",
      "3              Debit           Raleigh  D000187  200.13.225.150       M002   \n",
      "4             Credit           Atlanta  D000308    65.164.3.100       M091   \n",
      "...              ...               ...      ...             ...        ...   \n",
      "2507          Credit  Colorado Springs  D000625    21.157.41.17       M072   \n",
      "2508           Debit            Tucson  D000410  49.174.157.140       M029   \n",
      "2509           Debit         San Diego  D000095     58.1.27.124       M087   \n",
      "2510           Debit            Denver  D000634   21.190.11.223       M041   \n",
      "2511          Credit      Jacksonville  D000215   59.127.135.25       M041   \n",
      "\n",
      "     Channel  CustomerAge CustomerOccupation  TransactionDuration  \\\n",
      "0        ATM           70             Doctor                   81   \n",
      "1        ATM           68             Doctor                  141   \n",
      "2     Online           19            Student                   56   \n",
      "3     Online           26            Student                   25   \n",
      "4     Online           26            Student                  198   \n",
      "...      ...          ...                ...                  ...   \n",
      "2507  Branch           33             Doctor                  109   \n",
      "2508  Branch           48             Doctor                  177   \n",
      "2509  Branch           56            Retired                  146   \n",
      "2510  Online           23            Student                   19   \n",
      "2511  Online           24            Student                   93   \n",
      "\n",
      "      LoginAttempts  AccountBalance PreviousTransactionDate  \n",
      "0                 1         5112.21     2024-11-04 08:08:08  \n",
      "1                 1        13758.91     2024-11-04 08:09:35  \n",
      "2                 1         1122.35     2024-11-04 08:07:04  \n",
      "3                 1         8569.06     2024-11-04 08:09:06  \n",
      "4                 1         7429.40     2024-11-04 08:06:39  \n",
      "...             ...             ...                     ...  \n",
      "2507              1        12690.79     2024-11-04 08:11:29  \n",
      "2508              1          254.75     2024-11-04 08:11:42  \n",
      "2509              1         3382.91     2024-11-04 08:08:39  \n",
      "2510              1         1776.91     2024-11-04 08:12:22  \n",
      "2511              1          131.25     2024-11-04 08:07:49  \n",
      "\n",
      "[2512 rows x 16 columns]>\n"
     ]
    }
   ],
   "source": [
    "print(df.duplicated)"
   ]
  },
  {
   "cell_type": "markdown",
   "metadata": {},
   "source": [
    "REMOVE DUPLICATE VALUES"
   ]
  },
  {
   "cell_type": "code",
   "execution_count": null,
   "metadata": {},
   "outputs": [],
   "source": [
    "df.drop_duplicates(inplace=True)"
   ]
  },
  {
   "cell_type": "markdown",
   "metadata": {},
   "source": [
    "DETECTING OUTLIERS"
   ]
  },
  {
   "cell_type": "code",
   "execution_count": null,
   "metadata": {},
   "outputs": [
    {
     "data": {
      "image/png": "[encoded data removed]",
      "text/plain": [
       "<Figure size 640x480 with 1 Axes>"
      ]
     },
     "metadata": {},
     "output_type": "display_data"
    }
   ],
   "source": [
    "import seaborn as sns\n",
    "import matplotlib.pyplot as plt\n",
    "sns.boxplot(data=df)\n",
    "plt.xticks(rotation=30)\n",
    "plt.show()"
   ]
  },
  {
   "cell_type": "markdown",
   "metadata": {},
   "source": [
    "REMOVING OUTLIERS"
   ]
  },
  {
   "cell_type": "code",
   "execution_count": 18,
   "metadata": {},
   "outputs": [],
   "source": [
    "# df[\"z_score\"]=(df[\"column_name\"]-df[\"column_name\"].mean()/df[\"column_name\"].std())\n",
    "# threshold=3\n",
    "# df_no_outliers=df[df['z_score'].abs()<=threshold]\n",
    "# print(df_no_outliers)\n",
    "# df_no_outliers=df_no_outliers.drop(columns=['z_score'])\n",
    "# print(df_no_outliers)"
   ]
  },
  {
   "cell_type": "markdown",
   "metadata": {},
   "source": [
    "CHECKING CORRELATION"
   ]
  },
  {
   "cell_type": "code",
   "execution_count": null,
   "metadata": {},
   "outputs": [
    {
     "name": "stdout",
     "output_type": "stream",
     "text": [
      "                     TransactionAmount  CustomerAge  TransactionDuration  \\\n",
      "TransactionAmount             1.000000    -0.025616             0.004359   \n",
      "CustomerAge                  -0.025616     1.000000            -0.017936   \n",
      "TransactionDuration           0.004359    -0.017936             1.000000   \n",
      "LoginAttempts                -0.008445     0.007653             0.032639   \n",
      "AccountBalance               -0.025165     0.319942             0.005577   \n",
      "\n",
      "                     LoginAttempts  AccountBalance  \n",
      "TransactionAmount        -0.008445       -0.025165  \n",
      "CustomerAge               0.007653        0.319942  \n",
      "TransactionDuration       0.032639        0.005577  \n",
      "LoginAttempts             1.000000        0.014999  \n",
      "AccountBalance            0.014999        1.000000  \n"
     ]
    }
   ],
   "source": [
    "cor=df.corr(numeric_only=True)\n",
    "print(cor)"
   ]
  },
  {
   "cell_type": "code",
   "execution_count": null,
   "metadata": {},
   "outputs": [
    {
     "data": {
      "image/png": "[encoded data removed]",
      "text/plain": [
       "<Figure size 640x480 with 2 Axes>"
      ]
     },
     "metadata": {},
     "output_type": "display_data"
    }
   ],
   "source": [
    "sns.heatmap(cor)\n",
    "plt.show()"
   ]
  },
  {
   "cell_type": "markdown",
   "metadata": {},
   "source": [
    "CHECKING STANDARD DEVIATION"
   ]
  },
  {
   "cell_type": "code",
   "execution_count": null,
   "metadata": {},
   "outputs": [],
   "source": [
    "print(df.std(numeric_only=True)) "
   ]
  },
  {
   "cell_type": "markdown",
   "metadata": {},
   "source": [
    "CHECKING STATISTICAL FUNCTION"
   ]
  },
  {
   "cell_type": "code",
   "execution_count": null,
   "metadata": {},
   "outputs": [
    {
     "name": "stdout",
     "output_type": "stream",
     "text": [
      "       TransactionAmount                TransactionDate  CustomerAge  \\\n",
      "count        2512.000000                           2512  2512.000000   \n",
      "mean          297.593778  2023-07-05 20:32:10.826433024    44.673965   \n",
      "min             0.260000            2023-01-02 16:00:06    18.000000   \n",
      "25%            81.885000  2023-04-03 16:22:05.750000128    27.000000   \n",
      "50%           211.140000     2023-07-07 17:49:43.500000    45.000000   \n",
      "75%           414.527500     2023-10-06 18:40:53.500000    59.000000   \n",
      "max          1919.110000            2024-01-01 18:21:50    80.000000   \n",
      "std           291.946243                            NaN    17.792198   \n",
      "\n",
      "       TransactionDuration  LoginAttempts  AccountBalance       z_score  \n",
      "count          2512.000000    2512.000000     2512.000000   2512.000000  \n",
      "mean            119.643312       1.124602     5114.302966   5112.991923  \n",
      "min              10.000000       1.000000      101.250000     99.938957  \n",
      "25%              63.000000       1.000000     1504.370000   1503.058957  \n",
      "50%             112.500000       1.000000     4735.510000   4734.198957  \n",
      "75%             161.000000       1.000000     7678.820000   7677.508957  \n",
      "max             300.000000       5.000000    14977.990000  14976.678957  \n",
      "std              69.963757       0.602662     3900.942499   3900.942499  \n"
     ]
    }
   ],
   "source": [
    "print(df.describe())"
   ]
  },
  {
   "cell_type": "markdown",
   "metadata": {},
   "source": [
    "1.WHO HAD THE MOST BANK BALANCE . HOW MUCH?"
   ]
  },
  {
   "cell_type": "code",
   "execution_count": null,
   "metadata": {},
   "outputs": [
    {
     "name": "stdout",
     "output_type": "stream",
     "text": [
      "AC00171\n",
      "14977.99\n"
     ]
    }
   ],
   "source": [
    "\n",
    "# most=np.max(df[\"AccountBalance\"])\n",
    "# print(most)\n",
    "top_customer=df.loc[df[\"AccountBalance\"].idxmax()]\n",
    "print(top_customer[\"AccountID\"])\n",
    "print(top_customer[\"AccountBalance\"])\n"
   ]
  },
  {
   "cell_type": "markdown",
   "metadata": {},
   "source": [
    "2.WHAT IS THE AVERAGE CUSTOMER AGE ?"
   ]
  },
  {
   "cell_type": "code",
   "execution_count": null,
   "metadata": {},
   "outputs": [
    {
     "data": {
      "text/plain": [
       "np.float64(44.673964968152866)"
      ]
     },
     "execution_count": 7,
     "metadata": {},
     "output_type": "execute_result"
    }
   ],
   "source": [
    "df[\"CustomerAge\"].mean()"
   ]
  },
  {
   "cell_type": "markdown",
   "metadata": {},
   "source": [
    "3.HOW MANY TRANSACTIONS ARE DONE IN BETWEEN 1/4/2023 TO 31/12/2023 ?"
   ]
  },
  {
   "cell_type": "code",
   "execution_count": null,
   "metadata": {},
   "outputs": [
    {
     "name": "stdout",
     "output_type": "stream",
     "text": [
      "2499\n"
     ]
    },
    {
     "data": {
      "image/png": "[encoded data removed]",
      "text/plain": [
       "<Figure size 640x480 with 1 Axes>"
      ]
     },
     "metadata": {},
     "output_type": "display_data"
    }
   ],
   "source": [
    "\n",
    "df[\"TransactionDate\"] = pd.to_datetime(df[\"TransactionDate\"])\n",
    "start_date = \"2023-01-01\"\n",
    "end_date = \"2023-12-31\"\n",
    "transactions = df[(df[\"TransactionDate\"] >= start_date) & (df[\"TransactionDate\"] <= end_date)]\n",
    "print(len(transactions))\n",
    "transaction_group= transactions.groupby(\"TransactionDate\")[\"TransactionAmount\"].sum()\n",
    "plt.bar(transaction_group.index, transaction_group.values)\n",
    "plt.xlabel('Transaction Date')\n",
    "plt.ylabel('Transaction Amount')\n",
    "plt.title('Transaction Amount by Date')\n",
    "plt.xticks(rotation=45)  \n",
    "plt.tight_layout()      \n",
    "plt.show()\n"
   ]
  },
  {
   "cell_type": "markdown",
   "metadata": {},
   "source": [
    "4.HOW MANY OF THESE CUSTOMERS WERE STUDENTS ?"
   ]
  },
  {
   "cell_type": "code",
   "execution_count": null,
   "metadata": {},
   "outputs": [
    {
     "name": "stdout",
     "output_type": "stream",
     "text": [
      "657\n"
     ]
    }
   ],
   "source": [
    "students_count=df[df[\"CustomerOccupation\"]==\"Student\"][\"CustomerOccupation\"].count()\n",
    "print(students_count)"
   ]
  },
  {
   "cell_type": "markdown",
   "metadata": {},
   "source": [
    "5.CALCULATE THE AVERAGE BANK BALANCE OF RETIRED PERSONS ?"
   ]
  },
  {
   "cell_type": "code",
   "execution_count": null,
   "metadata": {},
   "outputs": [
    {
     "name": "stdout",
     "output_type": "stream",
     "text": [
      "Average bank balance of retired persons:4542.157011686143\n"
     ]
    }
   ],
   "source": [
    "Retired_persons=df[df[\"CustomerOccupation\"]==\"Retired\"]\n",
    "average_balance=Retired_persons[\"AccountBalance\"].mean()\n",
    "print(f\"Average bank balance of retired persons:{average_balance}\")"
   ]
  },
  {
   "cell_type": "markdown",
   "metadata": {},
   "source": [
    "6.HOW MANY OF THE CUSTOMERS WERE DOCTORS ?"
   ]
  },
  {
   "cell_type": "code",
   "execution_count": null,
   "metadata": {},
   "outputs": [
    {
     "name": "stdout",
     "output_type": "stream",
     "text": [
      "631\n"
     ]
    }
   ],
   "source": [
    "doctors_count=df[df[\"CustomerOccupation\"]==\"Doctor\"][\"CustomerOccupation\"].count()\n",
    "print(doctors_count)"
   ]
  },
  {
   "cell_type": "markdown",
   "metadata": {},
   "source": [
    "7.FIND THE LOWEST BANK BALANCE ?"
   ]
  },
  {
   "cell_type": "code",
   "execution_count": null,
   "metadata": {},
   "outputs": [
    {
     "name": "stdout",
     "output_type": "stream",
     "text": [
      "AC00222\n",
      "101.25\n"
     ]
    }
   ],
   "source": [
    "# lowest=np.min(df[\"AccountBalance\"])\n",
    "# print(lowest)\n",
    "lowest=df.loc[df[\"AccountBalance\"].idxmin()]\n",
    "print(lowest[\"AccountID\"])\n",
    "print(lowest[\"AccountBalance\"])"
   ]
  },
  {
   "cell_type": "markdown",
   "metadata": {},
   "source": [
    "8.OBSERVE WHICH TYPE OF TRANSACTION IS MOST PREFERABLE?"
   ]
  },
  {
   "cell_type": "code",
   "execution_count": 17,
   "metadata": {},
   "outputs": [
    {
     "name": "stdout",
     "output_type": "stream",
     "text": [
      "Total credit transactions:568\n",
      "Total debit transacions:1944\n"
     ]
    },
    {
     "data": {
      "image/png": "[encoded data removed]",
      "text/plain": [
       "<Figure size 640x480 with 1 Axes>"
      ]
     },
     "metadata": {},
     "output_type": "display_data"
    }
   ],
   "source": [
    "credit_total=df[df[\"TransactionType\"]==\"Credit\"][\"TransactionAmount\"].count()\n",
    "debit_total=df[df[\"TransactionType\"]==\"Debit\"][\"TransactionAmount\"].count()\n",
    "print(f\"Total credit transactions:{credit_total}\")\n",
    "print(f\"Total debit transacions:{debit_total}\")\n",
    "df[\"TransactionType\"].max()\n",
    "total=df.groupby(\"TransactionType\")[\"TransactionAmount\"].sum()\n",
    "plt.pie(total,labels=total.index,autopct=\"%1.1f%%\",startangle=90)\n",
    "plt.axis(\"equal\")\n",
    "plt.show()"
   ]
  },
  {
   "cell_type": "markdown",
   "metadata": {},
   "source": [
    "9.CALCULATE THE TOTAL SUM BANK BALANCE OF FIRST 50 PERSONS?\n"
   ]
  },
  {
   "cell_type": "code",
   "execution_count": null,
   "metadata": {},
   "outputs": [
    {
     "name": "stdout",
     "output_type": "stream",
     "text": [
      "244805.58000000002\n"
     ]
    }
   ],
   "source": [
    "sum_total=df.loc[:50,\"AccountBalance\"].sum()\n",
    "print(sum_total)"
   ]
  },
  {
   "cell_type": "markdown",
   "metadata": {},
   "source": [
    "10.GRAPHICALLY IDENTIFY CUSTOMER OCCUPATION COUNT?"
   ]
  },
  {
   "cell_type": "code",
   "execution_count": null,
   "metadata": {},
   "outputs": [
    {
     "name": "stdout",
     "output_type": "stream",
     "text": [
      "CustomerOccupation\n",
      "Student     657\n",
      "Doctor      631\n",
      "Engineer    625\n",
      "Retired     599\n",
      "Name: count, dtype: int64\n"
     ]
    },
    {
     "data": {
      "image/png": "[encoded data removed]",
      "text/plain": [
       "<Figure size 600x400 with 1 Axes>"
      ]
     },
     "metadata": {},
     "output_type": "display_data"
    }
   ],
   "source": [
    "occupation=df[\"CustomerOccupation\"].value_counts()\n",
    "print(occupation)\n",
    "plt.figure(figsize=(6,4))\n",
    "plt.bar(occupation.index,occupation.values,color=[\"blue\",\"green\",\"yellow\",\"orange\"])\n",
    "plt.xlabel(\"CustomerOccupation\")\n",
    "plt.ylabel(\"count\")\n",
    "plt.title(\"CUSTOMERS\")\n",
    "plt.xticks(rotation=90)\n",
    "plt.tight_layout()\n",
    "plt.show()"
   ]
  },
  {
   "cell_type": "markdown",
   "metadata": {},
   "source": [
    "11.HOW MANY OF THESE PEOPLE FAILED IN THEIR FIRST LOGIN ATTEMPT?"
   ]
  },
  {
   "cell_type": "code",
   "execution_count": null,
   "metadata": {},
   "outputs": [
    {
     "name": "stdout",
     "output_type": "stream",
     "text": [
      "122\n"
     ]
    }
   ],
   "source": [
    "login_attempts=df[df[\"LoginAttempts\"]>1]\n",
    "print(len(login_attempts))"
   ]
  },
  {
   "cell_type": "markdown",
   "metadata": {},
   "source": [
    "12.IDENTIFY THE DATE WHERE HIGHEST TRANSACTION IS DONE AND HOW MUCH?"
   ]
  },
  {
   "cell_type": "code",
   "execution_count": null,
   "metadata": {},
   "outputs": [
    {
     "name": "stdout",
     "output_type": "stream",
     "text": [
      "Highest transaction done in:2023-06-27 17:48:25\n",
      "Highest amount transfered is:1919.11\n"
     ]
    }
   ],
   "source": [
    "df[\"TransactionDate\"]=pd.to_datetime(df[\"TransactionDate\"])\n",
    "max_transaction_date=df.loc[df['TransactionAmount'].idxmax()][\"TransactionDate\"]\n",
    "max_transaction_amount=df[\"TransactionAmount\"].max()\n",
    "print(f\"Highest transaction done in:{max_transaction_date}\")\n",
    "print(f\"Highest amount transfered is:{max_transaction_amount}\")\n"
   ]
  },
  {
   "cell_type": "markdown",
   "metadata": {},
   "source": [
    "13.WHAT IS THE TOTAL AMOUNT OF MONEY TRANSFERRED?"
   ]
  },
  {
   "cell_type": "code",
   "execution_count": null,
   "metadata": {},
   "outputs": [
    {
     "name": "stdout",
     "output_type": "stream",
     "text": [
      "Total amount of money transferred is :747555.5700000001\n"
     ]
    }
   ],
   "source": [
    "total_transactions=df[\"TransactionAmount\"].sum()\n",
    "print(f\"Total amount of money transferred is :{total_transactions}\")"
   ]
  },
  {
   "cell_type": "markdown",
   "metadata": {},
   "source": [
    "14.WHAT IS THE MAXIMUM AND MINIMUM TRANSACTION AMOUNT?"
   ]
  },
  {
   "cell_type": "code",
   "execution_count": null,
   "metadata": {},
   "outputs": [
    {
     "name": "stdout",
     "output_type": "stream",
     "text": [
      "Maximum transaction amount is:1919.11\n",
      "Minimum transaction amount is:0.26\n"
     ]
    }
   ],
   "source": [
    "highest=np.max(df[\"TransactionAmount\"])\n",
    "lowest=np.min(df[\"TransactionAmount\"])\n",
    "print(f\"Maximum transaction amount is:{highest}\")\n",
    "print(f\"Minimum transaction amount is:{lowest}\")"
   ]
  },
  {
   "cell_type": "markdown",
   "metadata": {},
   "source": [
    "15.IDENTIFY THE BRANCHES OF THE BANK?"
   ]
  },
  {
   "cell_type": "code",
   "execution_count": null,
   "metadata": {},
   "outputs": [
    {
     "name": "stdout",
     "output_type": "stream",
     "text": [
      "The braches are:['San Diego' 'Houston' 'Mesa' 'Raleigh' 'Atlanta' 'Oklahoma City'\n",
      " 'Seattle' 'Indianapolis' 'Detroit' 'Nashville' 'Albuquerque' 'Memphis'\n",
      " 'Louisville' 'Denver' 'Austin' 'Columbus' 'Los Angeles' 'Las Vegas'\n",
      " 'Fort Worth' 'Miami' 'Milwaukee' 'Baltimore' 'New York' 'San Francisco'\n",
      " 'San Jose' 'San Antonio' 'Philadelphia' 'Charlotte' 'Tucson' 'Chicago'\n",
      " 'Sacramento' 'Kansas City' 'Omaha' 'Virginia Beach' 'Dallas' 'Boston'\n",
      " 'Jacksonville' 'Phoenix' 'Washington' 'El Paso' 'Colorado Springs'\n",
      " 'Fresno' 'Portland']\n"
     ]
    }
   ],
   "source": [
    "branches=df[\"Location\"].unique()\n",
    "print(f\"The braches are:{branches}\")"
   ]
  },
  {
   "cell_type": "markdown",
   "metadata": {},
   "source": [
    "# conclusion\n",
    "The customer with the highest bank balance and its amount is identified. The average age of customers is calculated, providing insights into the bank's demographic. The total number of transactions made between January 1, 2023, and December 31, 2023, is determined. The dataset reveals the number of students and doctors among the customers, along with the average bank balance of retired individuals. The lowest bank balance and the most preferred type of transaction (e.g., online, cash, or card) are observed. The cumulative bank balance of the first 50 customers is calculated, and the customer occupations are graphically represented. The number of customers who failed in their first login attempt is identified. Furthermore, the date with the highest transaction and its value are pinpointed. The total amount of money transferred is summed up, with the maximum and minimum transaction amounts noted. Lastly, all bank branches are listed to complete the analysis."
   ]
  },
  {
   "cell_type": "markdown",
   "metadata": {},
   "source": []
  }
 ],
 "metadata": {
  "kernelspec": {
   "display_name": "Python 3",
   "language": "python",
   "name": "python3"
  },
  "language_info": {
   "codemirror_mode": {
    "name": "ipython",
    "version": 3
   },
   "file_extension": ".py",
   "mimetype": "text/x-python",
   "name": "python",
   "nbconvert_exporter": "python",
   "pygments_lexer": "ipython3",
   "version": "3.10.11"
  }
 },
 "nbformat": 4,
 "nbformat_minor": 2
}
